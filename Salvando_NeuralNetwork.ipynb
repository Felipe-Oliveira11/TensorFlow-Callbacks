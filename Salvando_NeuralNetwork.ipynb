{
  "nbformat": 4,
  "nbformat_minor": 0,
  "metadata": {
    "colab": {
      "name": "Salvando_NeuralNetwork.ipynb",
      "provenance": [],
      "collapsed_sections": [],
      "toc_visible": true,
      "mount_file_id": "1AQ3Y0EDB0_YEYwb_hMcL4RJ41PMIJAUD",
      "authorship_tag": "ABX9TyOC++kqTkV0xZSj4TPGfvVr",
      "include_colab_link": true
    },
    "kernelspec": {
      "name": "python3",
      "display_name": "Python 3"
    },
    "accelerator": "GPU"
  },
  "cells": [
    {
      "cell_type": "markdown",
      "metadata": {
        "id": "view-in-github",
        "colab_type": "text"
      },
      "source": [
        "<a href=\"https://colab.research.google.com/github/Felipe-Oliveira11/TensorFlow-Callbacks/blob/master/Salvando_NeuralNetwork.ipynb\" target=\"_parent\"><img src=\"https://colab.research.google.com/assets/colab-badge.svg\" alt=\"Open In Colab\"/></a>"
      ]
    },
    {
      "cell_type": "markdown",
      "metadata": {
        "id": "ANk-lmVgpni6",
        "colab_type": "text"
      },
      "source": [
        "### Arquitetura MultiLayer Perceptron \n",
        "\n",
        "\n",
        "\n",
        "<br>\n",
        "<hr>"
      ]
    },
    {
      "cell_type": "code",
      "metadata": {
        "id": "59Xm6s3hDUBK",
        "colab_type": "code",
        "colab": {
          "base_uri": "https://localhost:8080/",
          "height": 71
        },
        "outputId": "1d8afb90-2041-4048-8877-0ab15970eb10"
      },
      "source": [
        "import numpy as np \n",
        "import pandas as pd \n",
        "import matplotlib.pyplot as plt \n",
        "import seaborn as sns \n",
        "\n",
        "%matplotlib inline \n",
        "import warnings\n",
        "warnings.filterwarnings('ignore')\n",
        "\n",
        "\n",
        "from sklearn.preprocessing import StandardScaler, RobustScaler\n",
        "from sklearn.preprocessing import MinMaxScaler\n",
        "from sklearn.preprocessing import LabelEncoder\n",
        "from sklearn.model_selection import StratifiedKFold, train_test_split\n",
        "from sklearn.metrics import classification_report, precision_score, average_precision_score, roc_auc_score\n",
        "\n",
        "\n",
        "import tensorflow as tf\n",
        "from tensorflow.keras.models import save_model\n",
        "from tensorflow.keras.models import load_model\n",
        "from tensorflow.keras import Sequential\n",
        "from tensorflow.keras.layers import Dense, InputLayer\n",
        "from tensorflow.keras.optimizers import Adam, SGD, RMSprop\n",
        "from tensorflow.keras.losses import BinaryCrossentropy"
      ],
      "execution_count": null,
      "outputs": [
        {
          "output_type": "stream",
          "text": [
            "/usr/local/lib/python3.6/dist-packages/statsmodels/tools/_testing.py:19: FutureWarning: pandas.util.testing is deprecated. Use the functions in the public API at pandas.testing instead.\n",
            "  import pandas.util.testing as tm\n"
          ],
          "name": "stderr"
        }
      ]
    },
    {
      "cell_type": "code",
      "metadata": {
        "id": "KforJJXhYqg3",
        "colab_type": "code",
        "colab": {}
      },
      "source": [
        "# seed \n",
        "np.random.seed(42)"
      ],
      "execution_count": null,
      "outputs": []
    },
    {
      "cell_type": "code",
      "metadata": {
        "id": "WMVrJbG2Dg23",
        "colab_type": "code",
        "colab": {
          "base_uri": "https://localhost:8080/",
          "height": 241
        },
        "outputId": "81e6a09c-a7d2-46b0-f059-999829a9ee6e"
      },
      "source": [
        "path = '/content/drive/My Drive/Machine Learning - Notebooks/Marketing /campaigns.csv'\n",
        "marketing = pd.read_csv(path)\n",
        "marketing.head()"
      ],
      "execution_count": null,
      "outputs": [
        {
          "output_type": "execute_result",
          "data": {
            "text/html": [
              "<div>\n",
              "<style scoped>\n",
              "    .dataframe tbody tr th:only-of-type {\n",
              "        vertical-align: middle;\n",
              "    }\n",
              "\n",
              "    .dataframe tbody tr th {\n",
              "        vertical-align: top;\n",
              "    }\n",
              "\n",
              "    .dataframe thead th {\n",
              "        text-align: right;\n",
              "    }\n",
              "</style>\n",
              "<table border=\"1\" class=\"dataframe\">\n",
              "  <thead>\n",
              "    <tr style=\"text-align: right;\">\n",
              "      <th></th>\n",
              "      <th>Unnamed: 0</th>\n",
              "      <th>age</th>\n",
              "      <th>job</th>\n",
              "      <th>marital</th>\n",
              "      <th>education</th>\n",
              "      <th>default</th>\n",
              "      <th>balance</th>\n",
              "      <th>housing</th>\n",
              "      <th>loan</th>\n",
              "      <th>contact</th>\n",
              "      <th>day</th>\n",
              "      <th>month</th>\n",
              "      <th>duration</th>\n",
              "      <th>campaign</th>\n",
              "      <th>pdays</th>\n",
              "      <th>previous</th>\n",
              "      <th>poutcome</th>\n",
              "      <th>y</th>\n",
              "    </tr>\n",
              "  </thead>\n",
              "  <tbody>\n",
              "    <tr>\n",
              "      <th>0</th>\n",
              "      <td>0</td>\n",
              "      <td>58</td>\n",
              "      <td>management</td>\n",
              "      <td>married</td>\n",
              "      <td>tertiary</td>\n",
              "      <td>no</td>\n",
              "      <td>2143</td>\n",
              "      <td>yes</td>\n",
              "      <td>no</td>\n",
              "      <td>unknown</td>\n",
              "      <td>5</td>\n",
              "      <td>may</td>\n",
              "      <td>261</td>\n",
              "      <td>1</td>\n",
              "      <td>-1</td>\n",
              "      <td>0</td>\n",
              "      <td>unknown</td>\n",
              "      <td>no</td>\n",
              "    </tr>\n",
              "    <tr>\n",
              "      <th>1</th>\n",
              "      <td>1</td>\n",
              "      <td>44</td>\n",
              "      <td>technician</td>\n",
              "      <td>single</td>\n",
              "      <td>secondary</td>\n",
              "      <td>no</td>\n",
              "      <td>29</td>\n",
              "      <td>yes</td>\n",
              "      <td>no</td>\n",
              "      <td>unknown</td>\n",
              "      <td>5</td>\n",
              "      <td>may</td>\n",
              "      <td>151</td>\n",
              "      <td>1</td>\n",
              "      <td>-1</td>\n",
              "      <td>0</td>\n",
              "      <td>unknown</td>\n",
              "      <td>no</td>\n",
              "    </tr>\n",
              "    <tr>\n",
              "      <th>2</th>\n",
              "      <td>2</td>\n",
              "      <td>33</td>\n",
              "      <td>entrepreneur</td>\n",
              "      <td>married</td>\n",
              "      <td>secondary</td>\n",
              "      <td>no</td>\n",
              "      <td>2</td>\n",
              "      <td>yes</td>\n",
              "      <td>yes</td>\n",
              "      <td>unknown</td>\n",
              "      <td>5</td>\n",
              "      <td>may</td>\n",
              "      <td>76</td>\n",
              "      <td>1</td>\n",
              "      <td>-1</td>\n",
              "      <td>0</td>\n",
              "      <td>unknown</td>\n",
              "      <td>no</td>\n",
              "    </tr>\n",
              "    <tr>\n",
              "      <th>3</th>\n",
              "      <td>3</td>\n",
              "      <td>47</td>\n",
              "      <td>blue-collar</td>\n",
              "      <td>married</td>\n",
              "      <td>unknown</td>\n",
              "      <td>no</td>\n",
              "      <td>1506</td>\n",
              "      <td>yes</td>\n",
              "      <td>no</td>\n",
              "      <td>unknown</td>\n",
              "      <td>5</td>\n",
              "      <td>may</td>\n",
              "      <td>92</td>\n",
              "      <td>1</td>\n",
              "      <td>-1</td>\n",
              "      <td>0</td>\n",
              "      <td>unknown</td>\n",
              "      <td>no</td>\n",
              "    </tr>\n",
              "    <tr>\n",
              "      <th>4</th>\n",
              "      <td>4</td>\n",
              "      <td>33</td>\n",
              "      <td>unknown</td>\n",
              "      <td>single</td>\n",
              "      <td>unknown</td>\n",
              "      <td>no</td>\n",
              "      <td>1</td>\n",
              "      <td>no</td>\n",
              "      <td>no</td>\n",
              "      <td>unknown</td>\n",
              "      <td>5</td>\n",
              "      <td>may</td>\n",
              "      <td>198</td>\n",
              "      <td>1</td>\n",
              "      <td>-1</td>\n",
              "      <td>0</td>\n",
              "      <td>unknown</td>\n",
              "      <td>no</td>\n",
              "    </tr>\n",
              "  </tbody>\n",
              "</table>\n",
              "</div>"
            ],
            "text/plain": [
              "   Unnamed: 0  age           job  marital  ... pdays previous  poutcome   y\n",
              "0           0   58    management  married  ...    -1        0   unknown  no\n",
              "1           1   44    technician   single  ...    -1        0   unknown  no\n",
              "2           2   33  entrepreneur  married  ...    -1        0   unknown  no\n",
              "3           3   47   blue-collar  married  ...    -1        0   unknown  no\n",
              "4           4   33       unknown   single  ...    -1        0   unknown  no\n",
              "\n",
              "[5 rows x 18 columns]"
            ]
          },
          "metadata": {
            "tags": []
          },
          "execution_count": 3
        }
      ]
    },
    {
      "cell_type": "code",
      "metadata": {
        "id": "zAhCvkYxDwCX",
        "colab_type": "code",
        "colab": {}
      },
      "source": [
        "marketing.drop('Unnamed: 0', axis=1, inplace=True)\n",
        "\n",
        "\n",
        "# label target \n",
        "label = LabelEncoder()\n",
        "marketing['y'] = label.fit_transform(marketing[['y']])\n",
        "\n",
        "\n",
        "# tipo de variáveis \n",
        "cat_cols = marketing.select_dtypes(include=['object']).columns \n",
        "num_cols = marketing.select_dtypes(include=['float64', 'int64']).columns\n",
        "\n",
        "\n",
        "\n",
        "# encoding categóricas \n",
        "dummies = pd.get_dummies(marketing[cat_cols], prefix=cat_cols, drop_first=True)\n",
        "marketing = pd.concat([marketing, dummies], axis=1)\n",
        "marketing.drop(cat_cols, axis=1, inplace=True)\n",
        "marketing.shape\n",
        "\n",
        "\n",
        "# split \n",
        "X = marketing.drop('y', axis=1)\n",
        "y = marketing['y']\n",
        "\n",
        "X_train, X_test, y_train, y_test = train_test_split(X,y, test_size=0.30, random_state=42)\n",
        "\n",
        "# padronização\n",
        "std = StandardScaler()\n",
        "X_train = std.fit_transform(X_train)\n",
        "X_test = std.transform(X_test)"
      ],
      "execution_count": null,
      "outputs": []
    },
    {
      "cell_type": "code",
      "metadata": {
        "id": "PNP86OxEE6ue",
        "colab_type": "code",
        "colab": {
          "base_uri": "https://localhost:8080/",
          "height": 34
        },
        "outputId": "44d52222-02ea-45ff-e6ec-6fa8b825be35"
      },
      "source": [
        "X_train.shape"
      ],
      "execution_count": null,
      "outputs": [
        {
          "output_type": "execute_result",
          "data": {
            "text/plain": [
              "(28483, 42)"
            ]
          },
          "metadata": {
            "tags": []
          },
          "execution_count": 5
        }
      ]
    },
    {
      "cell_type": "code",
      "metadata": {
        "id": "octQPO-SEsS5",
        "colab_type": "code",
        "colab": {
          "base_uri": "https://localhost:8080/",
          "height": 1000
        },
        "outputId": "b3893a80-f44e-42f6-8ec2-36b5c598c0a1"
      },
      "source": [
        "# Definindo Arquitetura \n",
        "model = Sequential()\n",
        "model.add(InputLayer(input_shape=(42,))) # 42 é o número de colunas \n",
        "model.add(Dense(units=20, activation='relu'))\n",
        "model.add(Dense(units=20, activation='relu'))\n",
        "model.add(Dense(units=1, activation='sigmoid'))\n",
        "model.compile(optimizer=Adam(learning_rate=0.001),\n",
        "              loss='binary_crossentropy',\n",
        "              metrics=['Precision', 'accuracy'])\n",
        "\n",
        "\n",
        "# treino \n",
        "history = model.fit(X_train, y_train, epochs=50, batch_size=64, verbose=1)"
      ],
      "execution_count": null,
      "outputs": [
        {
          "output_type": "stream",
          "text": [
            "Epoch 1/50\n",
            "WARNING:tensorflow:From /usr/local/lib/python3.6/dist-packages/tensorflow/python/ops/resource_variable_ops.py:1817: calling BaseResourceVariable.__init__ (from tensorflow.python.ops.resource_variable_ops) with constraint is deprecated and will be removed in a future version.\n",
            "Instructions for updating:\n",
            "If using Keras pass *_constraint arguments to layers.\n",
            "446/446 [==============================] - 1s 3ms/step - loss: 0.3643 - precision: 0.1359 - accuracy: 0.8538\n",
            "Epoch 2/50\n",
            "446/446 [==============================] - 1s 3ms/step - loss: 0.2523 - precision: 0.6403 - accuracy: 0.8938\n",
            "Epoch 3/50\n",
            "446/446 [==============================] - 1s 3ms/step - loss: 0.2260 - precision: 0.6284 - accuracy: 0.9043\n",
            "Epoch 4/50\n",
            "446/446 [==============================] - 1s 3ms/step - loss: 0.2213 - precision: 0.6273 - accuracy: 0.9062\n",
            "Epoch 5/50\n",
            "446/446 [==============================] - 1s 3ms/step - loss: 0.2197 - precision: 0.6231 - accuracy: 0.9056\n",
            "Epoch 6/50\n",
            "446/446 [==============================] - 1s 3ms/step - loss: 0.2188 - precision: 0.6231 - accuracy: 0.9055\n",
            "Epoch 7/50\n",
            "446/446 [==============================] - 1s 3ms/step - loss: 0.2179 - precision: 0.6237 - accuracy: 0.9059\n",
            "Epoch 8/50\n",
            "446/446 [==============================] - 1s 3ms/step - loss: 0.2171 - precision: 0.6246 - accuracy: 0.9059\n",
            "Epoch 9/50\n",
            "446/446 [==============================] - 1s 3ms/step - loss: 0.2162 - precision: 0.6261 - accuracy: 0.9062\n",
            "Epoch 10/50\n",
            "446/446 [==============================] - 1s 3ms/step - loss: 0.2155 - precision: 0.6303 - accuracy: 0.9068\n",
            "Epoch 11/50\n",
            "446/446 [==============================] - 1s 3ms/step - loss: 0.2145 - precision: 0.6300 - accuracy: 0.9067\n",
            "Epoch 12/50\n",
            "446/446 [==============================] - 1s 3ms/step - loss: 0.2137 - precision: 0.6408 - accuracy: 0.9084\n",
            "Epoch 13/50\n",
            "446/446 [==============================] - 1s 3ms/step - loss: 0.2129 - precision: 0.6353 - accuracy: 0.9077\n",
            "Epoch 14/50\n",
            "446/446 [==============================] - 1s 3ms/step - loss: 0.2118 - precision: 0.6435 - accuracy: 0.9088\n",
            "Epoch 15/50\n",
            "446/446 [==============================] - 2s 3ms/step - loss: 0.2111 - precision: 0.6426 - accuracy: 0.9084\n",
            "Epoch 16/50\n",
            "446/446 [==============================] - 1s 3ms/step - loss: 0.2102 - precision: 0.6423 - accuracy: 0.9086\n",
            "Epoch 17/50\n",
            "446/446 [==============================] - 1s 3ms/step - loss: 0.2092 - precision: 0.6491 - accuracy: 0.9096\n",
            "Epoch 18/50\n",
            "446/446 [==============================] - 1s 3ms/step - loss: 0.2084 - precision: 0.6502 - accuracy: 0.9091\n",
            "Epoch 19/50\n",
            "446/446 [==============================] - 1s 3ms/step - loss: 0.2075 - precision: 0.6483 - accuracy: 0.9094\n",
            "Epoch 20/50\n",
            "446/446 [==============================] - 1s 3ms/step - loss: 0.2066 - precision: 0.6511 - accuracy: 0.9095\n",
            "Epoch 21/50\n",
            "446/446 [==============================] - 1s 3ms/step - loss: 0.2057 - precision: 0.6534 - accuracy: 0.9098\n",
            "Epoch 22/50\n",
            "446/446 [==============================] - 1s 3ms/step - loss: 0.2048 - precision: 0.6553 - accuracy: 0.9102\n",
            "Epoch 23/50\n",
            "446/446 [==============================] - 1s 3ms/step - loss: 0.2042 - precision: 0.6520 - accuracy: 0.9102\n",
            "Epoch 24/50\n",
            "446/446 [==============================] - 1s 3ms/step - loss: 0.2033 - precision: 0.6604 - accuracy: 0.9106\n",
            "Epoch 25/50\n",
            "446/446 [==============================] - 1s 3ms/step - loss: 0.2027 - precision: 0.6507 - accuracy: 0.9101\n",
            "Epoch 26/50\n",
            "446/446 [==============================] - 1s 3ms/step - loss: 0.2019 - precision: 0.6587 - accuracy: 0.9107\n",
            "Epoch 27/50\n",
            "446/446 [==============================] - 1s 3ms/step - loss: 0.2014 - precision: 0.6615 - accuracy: 0.9108\n",
            "Epoch 28/50\n",
            "446/446 [==============================] - 1s 3ms/step - loss: 0.2006 - precision: 0.6633 - accuracy: 0.9116\n",
            "Epoch 29/50\n",
            "446/446 [==============================] - 1s 3ms/step - loss: 0.2000 - precision: 0.6688 - accuracy: 0.9118\n",
            "Epoch 30/50\n",
            "446/446 [==============================] - 1s 3ms/step - loss: 0.1993 - precision: 0.6636 - accuracy: 0.9119\n",
            "Epoch 31/50\n",
            "446/446 [==============================] - 1s 3ms/step - loss: 0.1988 - precision: 0.6613 - accuracy: 0.9111\n",
            "Epoch 32/50\n",
            "446/446 [==============================] - 1s 3ms/step - loss: 0.1981 - precision: 0.6623 - accuracy: 0.9121\n",
            "Epoch 33/50\n",
            "446/446 [==============================] - 1s 3ms/step - loss: 0.1976 - precision: 0.6619 - accuracy: 0.9116\n",
            "Epoch 34/50\n",
            "446/446 [==============================] - 1s 3ms/step - loss: 0.1970 - precision: 0.6637 - accuracy: 0.9122\n",
            "Epoch 35/50\n",
            "446/446 [==============================] - 1s 3ms/step - loss: 0.1966 - precision: 0.6604 - accuracy: 0.9117\n",
            "Epoch 36/50\n",
            "446/446 [==============================] - 1s 3ms/step - loss: 0.1960 - precision: 0.6694 - accuracy: 0.9133\n",
            "Epoch 37/50\n",
            "446/446 [==============================] - 1s 3ms/step - loss: 0.1961 - precision: 0.6679 - accuracy: 0.9125\n",
            "Epoch 38/50\n",
            "446/446 [==============================] - 1s 3ms/step - loss: 0.1952 - precision: 0.6686 - accuracy: 0.9130\n",
            "Epoch 39/50\n",
            "446/446 [==============================] - 1s 3ms/step - loss: 0.1949 - precision: 0.6679 - accuracy: 0.9129\n",
            "Epoch 40/50\n",
            "446/446 [==============================] - 1s 3ms/step - loss: 0.1945 - precision: 0.6631 - accuracy: 0.9124\n",
            "Epoch 41/50\n",
            "446/446 [==============================] - 1s 3ms/step - loss: 0.1940 - precision: 0.6708 - accuracy: 0.9132\n",
            "Epoch 42/50\n",
            "446/446 [==============================] - 1s 3ms/step - loss: 0.1937 - precision: 0.6689 - accuracy: 0.9139\n",
            "Epoch 43/50\n",
            "446/446 [==============================] - 1s 3ms/step - loss: 0.1934 - precision: 0.6714 - accuracy: 0.9140\n",
            "Epoch 44/50\n",
            "446/446 [==============================] - 1s 3ms/step - loss: 0.1930 - precision: 0.6731 - accuracy: 0.9140\n",
            "Epoch 45/50\n",
            "446/446 [==============================] - 1s 3ms/step - loss: 0.1926 - precision: 0.6688 - accuracy: 0.9137\n",
            "Epoch 46/50\n",
            "446/446 [==============================] - 1s 3ms/step - loss: 0.1925 - precision: 0.6723 - accuracy: 0.9142\n",
            "Epoch 47/50\n",
            "446/446 [==============================] - 1s 3ms/step - loss: 0.1921 - precision: 0.6661 - accuracy: 0.9138\n",
            "Epoch 48/50\n",
            "446/446 [==============================] - 1s 3ms/step - loss: 0.1916 - precision: 0.6726 - accuracy: 0.9141\n",
            "Epoch 49/50\n",
            "446/446 [==============================] - 2s 4ms/step - loss: 0.1913 - precision: 0.6731 - accuracy: 0.9146\n",
            "Epoch 50/50\n",
            "446/446 [==============================] - 1s 3ms/step - loss: 0.1909 - precision: 0.6753 - accuracy: 0.9152\n"
          ],
          "name": "stdout"
        }
      ]
    },
    {
      "cell_type": "code",
      "metadata": {
        "id": "WzG7KZf1IaV5",
        "colab_type": "code",
        "colab": {
          "base_uri": "https://localhost:8080/",
          "height": 34
        },
        "outputId": "55cd11b0-f093-424c-f99b-9b12715d193e"
      },
      "source": [
        "# avaliando rede neural\n",
        "binary_entropy, precision, accuracy = model.evaluate(X_test,  y_test, verbose=2)"
      ],
      "execution_count": null,
      "outputs": [
        {
          "output_type": "stream",
          "text": [
            "382/382 - 1s - loss: 0.2137 - precision: 0.6341 - accuracy: 0.9053\n"
          ],
          "name": "stdout"
        }
      ]
    },
    {
      "cell_type": "code",
      "metadata": {
        "id": "eMePLHYkUc8Q",
        "colab_type": "code",
        "colab": {
          "base_uri": "https://localhost:8080/",
          "height": 34
        },
        "outputId": "d0148c44-ce61-4b7b-95d4-cc3f34718126"
      },
      "source": [
        "print('Precision: ', precision)"
      ],
      "execution_count": null,
      "outputs": [
        {
          "output_type": "stream",
          "text": [
            "Precision:  0.6341072916984558\n"
          ],
          "name": "stdout"
        }
      ]
    },
    {
      "cell_type": "code",
      "metadata": {
        "id": "Za-5xOnNVJZC",
        "colab_type": "code",
        "colab": {
          "base_uri": "https://localhost:8080/",
          "height": 136
        },
        "outputId": "08c58aec-f681-45b9-8bf8-f90ba2e372e8"
      },
      "source": [
        "# predições \n",
        "predictions = model.predict(X_test)\n",
        "print(predictions)"
      ],
      "execution_count": null,
      "outputs": [
        {
          "output_type": "stream",
          "text": [
            "[[0.0191062 ]\n",
            " [0.02250743]\n",
            " [0.00342463]\n",
            " ...\n",
            " [0.03601754]\n",
            " [0.01564984]\n",
            " [0.00380524]]\n"
          ],
          "name": "stdout"
        }
      ]
    },
    {
      "cell_type": "code",
      "metadata": {
        "id": "5SFlEnErYnuB",
        "colab_type": "code",
        "colab": {
          "base_uri": "https://localhost:8080/",
          "height": 272
        },
        "outputId": "ee5400e7-a375-4352-f8e3-f952a95bc63e"
      },
      "source": [
        "# summary (resumo da Rede neural)\n",
        "print(model.summary())"
      ],
      "execution_count": null,
      "outputs": [
        {
          "output_type": "stream",
          "text": [
            "Model: \"sequential\"\n",
            "_________________________________________________________________\n",
            "Layer (type)                 Output Shape              Param #   \n",
            "=================================================================\n",
            "dense (Dense)                (None, 20)                860       \n",
            "_________________________________________________________________\n",
            "dense_1 (Dense)              (None, 20)                420       \n",
            "_________________________________________________________________\n",
            "dense_2 (Dense)              (None, 1)                 21        \n",
            "=================================================================\n",
            "Total params: 1,301\n",
            "Trainable params: 1,301\n",
            "Non-trainable params: 0\n",
            "_________________________________________________________________\n",
            "None\n"
          ],
          "name": "stdout"
        }
      ]
    },
    {
      "cell_type": "code",
      "metadata": {
        "id": "GfDeLlL3P6vp",
        "colab_type": "code",
        "colab": {
          "base_uri": "https://localhost:8080/",
          "height": 296
        },
        "outputId": "a1ec7a69-4ac7-4b22-baf9-b83d361ff344"
      },
      "source": [
        "# Curva do erro \n",
        "plt.plot(history.history['loss'])\n",
        "plt.xlabel('Epochs')\n",
        "plt.ylabel('Loss Magnitude')"
      ],
      "execution_count": null,
      "outputs": [
        {
          "output_type": "execute_result",
          "data": {
            "text/plain": [
              "Text(0, 0.5, 'Loss Magnitude')"
            ]
          },
          "metadata": {
            "tags": []
          },
          "execution_count": 11
        },
        {
          "output_type": "display_data",
          "data": {
            "image/png": "[encoded data removed]",
            "text/plain": [
              "<Figure size 432x288 with 1 Axes>"
            ]
          },
          "metadata": {
            "tags": [],
            "needs_background": "light"
          }
        }
      ]
    },
    {
      "cell_type": "code",
      "metadata": {
        "id": "gog_iR1KKGTN",
        "colab_type": "code",
        "colab": {
          "base_uri": "https://localhost:8080/",
          "height": 34
        },
        "outputId": "7773e4a0-9166-488c-cda4-e62fa7448132"
      },
      "source": [
        "# métricas utilizadas \n",
        "print(model.metrics_names)"
      ],
      "execution_count": null,
      "outputs": [
        {
          "output_type": "stream",
          "text": [
            "['loss', 'precision', 'accuracy']\n"
          ],
          "name": "stdout"
        }
      ]
    },
    {
      "cell_type": "code",
      "metadata": {
        "id": "efFwzogjOc_M",
        "colab_type": "code",
        "colab": {
          "base_uri": "https://localhost:8080/",
          "height": 241
        },
        "outputId": "c871a952-3478-4e5d-e649-641dc64b60a8"
      },
      "source": [
        "# métricas \n",
        "y_pred = model.predict_classes(X_test)\n",
        "print(classification_report(y_test, y_pred))"
      ],
      "execution_count": null,
      "outputs": [
        {
          "output_type": "stream",
          "text": [
            "WARNING:tensorflow:From <ipython-input-13-32712635aeb2>:2: Sequential.predict_classes (from tensorflow.python.keras.engine.sequential) is deprecated and will be removed after 2021-01-01.\n",
            "Instructions for updating:\n",
            "Please use instead:* `np.argmax(model.predict(x), axis=-1)`,   if your model does multi-class classification   (e.g. if it uses a `softmax` last-layer activation).* `(model.predict(x) > 0.5).astype(\"int32\")`,   if your model does binary classification   (e.g. if it uses a `sigmoid` last-layer activation).\n",
            "              precision    recall  f1-score   support\n",
            "\n",
            "           0       0.94      0.96      0.95     10716\n",
            "           1       0.63      0.53      0.58      1491\n",
            "\n",
            "    accuracy                           0.91     12207\n",
            "   macro avg       0.79      0.74      0.76     12207\n",
            "weighted avg       0.90      0.91      0.90     12207\n",
            "\n"
          ],
          "name": "stdout"
        }
      ]
    },
    {
      "cell_type": "markdown",
      "metadata": {
        "id": "2Klg8EriRtjj",
        "colab_type": "text"
      },
      "source": [
        "<br>\n",
        "<br>\n",
        "<hr>\n",
        "<br>\n",
        "\n",
        "\n",
        "### Salvando e Carregando Rede Neural \n",
        "\n",
        "Usando o formato SavedModel do TensorFlow para salvar e carregar a rede, estamos salvando e carregando a Rede por completa, com sua arquitetura, pesos e as informações de otimizadores, loss e métricas. \n",
        "\n",
        "A arquitetura do modelo e a configuração de treinamento (incluindo o otimizador, perdas e métricas) são armazenadas saved_model.pb. Os pesos são salvos no variables/diretório\n",
        "\n",
        "\n",
        "Ele salva:\n",
        "\n",
        "* Arquitetura da Rede neural \n",
        "* Pesos\n",
        "* Compile() que possui Otimizador, loss e métricas \n",
        "\n",
        "\n",
        "\n",
        "<br>\n",
        "\n",
        "\n",
        "#### <b> O que o SavedModel contém</b>:\n",
        "A chamada model.save('my_model')cria uma pasta chamada my_model, contendo o seguinte:\n",
        "\n",
        "* A arquitetura do modelo e a configuração de treinamento (incluindo o otimizador, perdas e métricas) são armazenadas saved_model.pb\n",
        "\n",
        "\n",
        "* Os pesos são salvos no variables/diretório\n",
        "\n",
        "\n",
        "\n",
        "\n",
        "<br>\n",
        "<br>\n"
      ]
    },
    {
      "cell_type": "code",
      "metadata": {
        "id": "2cc-HWdVNT8K",
        "colab_type": "code",
        "colab": {
          "base_uri": "https://localhost:8080/",
          "height": 34
        },
        "outputId": "16d0e64b-a1ea-4719-abe2-06bc38a59958"
      },
      "source": [
        "# salvar Rede neural \n",
        "model.save('my_NeuralNetwork', save_format='tf')"
      ],
      "execution_count": null,
      "outputs": [
        {
          "output_type": "stream",
          "text": [
            "INFO:tensorflow:Assets written to: my_NeuralNetwork/assets\n"
          ],
          "name": "stdout"
        }
      ]
    },
    {
      "cell_type": "code",
      "metadata": {
        "id": "iDet_O6JPPkd",
        "colab_type": "code",
        "colab": {}
      },
      "source": [
        "# carregar modelo \n",
        "reconstructed_model = load_model('my_NeuralNetwork')"
      ],
      "execution_count": null,
      "outputs": []
    },
    {
      "cell_type": "code",
      "metadata": {
        "id": "6orBS2zgRZJy",
        "colab_type": "code",
        "colab": {
          "base_uri": "https://localhost:8080/",
          "height": 734
        },
        "outputId": "0830747d-fe4f-47f2-d4f9-89e092874be9"
      },
      "source": [
        "np.random.seed(seed=42)\n",
        "reconstructed_model.fit(X_train, y_train, batch_size=64, epochs=20, validation_data=(X_test, y_test))"
      ],
      "execution_count": null,
      "outputs": [
        {
          "output_type": "stream",
          "text": [
            "Epoch 1/20\n",
            "446/446 [==============================] - 2s 4ms/step - loss: 0.1909 - precision: 0.6721 - accuracy: 0.9145 - val_loss: 0.2138 - val_precision: 0.6521 - val_accuracy: 0.9052\n",
            "Epoch 2/20\n",
            "446/446 [==============================] - 2s 4ms/step - loss: 0.1905 - precision: 0.6742 - accuracy: 0.9151 - val_loss: 0.2142 - val_precision: 0.6539 - val_accuracy: 0.9055\n",
            "Epoch 3/20\n",
            "446/446 [==============================] - 2s 4ms/step - loss: 0.1899 - precision: 0.6771 - accuracy: 0.9153 - val_loss: 0.2139 - val_precision: 0.6290 - val_accuracy: 0.9050\n",
            "Epoch 4/20\n",
            "446/446 [==============================] - 2s 4ms/step - loss: 0.1898 - precision: 0.6718 - accuracy: 0.9148 - val_loss: 0.2140 - val_precision: 0.6452 - val_accuracy: 0.9049\n",
            "Epoch 5/20\n",
            "446/446 [==============================] - 2s 4ms/step - loss: 0.1895 - precision: 0.6761 - accuracy: 0.9156 - val_loss: 0.2135 - val_precision: 0.6586 - val_accuracy: 0.9058\n",
            "Epoch 6/20\n",
            "446/446 [==============================] - 2s 4ms/step - loss: 0.1890 - precision: 0.6758 - accuracy: 0.9155 - val_loss: 0.2140 - val_precision: 0.6546 - val_accuracy: 0.9059\n",
            "Epoch 7/20\n",
            "446/446 [==============================] - 2s 4ms/step - loss: 0.1886 - precision: 0.6798 - accuracy: 0.9160 - val_loss: 0.2132 - val_precision: 0.6400 - val_accuracy: 0.9051\n",
            "Epoch 8/20\n",
            "446/446 [==============================] - 2s 4ms/step - loss: 0.1884 - precision: 0.6775 - accuracy: 0.9162 - val_loss: 0.2141 - val_precision: 0.6585 - val_accuracy: 0.9053\n",
            "Epoch 9/20\n",
            "446/446 [==============================] - 2s 4ms/step - loss: 0.1881 - precision: 0.6727 - accuracy: 0.9152 - val_loss: 0.2131 - val_precision: 0.6490 - val_accuracy: 0.9060\n",
            "Epoch 10/20\n",
            "446/446 [==============================] - 2s 4ms/step - loss: 0.1879 - precision: 0.6796 - accuracy: 0.9162 - val_loss: 0.2133 - val_precision: 0.6410 - val_accuracy: 0.9057\n",
            "Epoch 11/20\n",
            "446/446 [==============================] - 2s 4ms/step - loss: 0.1877 - precision: 0.6770 - accuracy: 0.9168 - val_loss: 0.2140 - val_precision: 0.6609 - val_accuracy: 0.9053\n",
            "Epoch 12/20\n",
            "446/446 [==============================] - 2s 4ms/step - loss: 0.1873 - precision: 0.6789 - accuracy: 0.9164 - val_loss: 0.2148 - val_precision: 0.6569 - val_accuracy: 0.9051\n",
            "Epoch 13/20\n",
            "446/446 [==============================] - 2s 4ms/step - loss: 0.1870 - precision: 0.6810 - accuracy: 0.9164 - val_loss: 0.2132 - val_precision: 0.6488 - val_accuracy: 0.9065\n",
            "Epoch 14/20\n",
            "446/446 [==============================] - 2s 4ms/step - loss: 0.1867 - precision: 0.6762 - accuracy: 0.9162 - val_loss: 0.2145 - val_precision: 0.6515 - val_accuracy: 0.9046\n",
            "Epoch 15/20\n",
            "446/446 [==============================] - 2s 4ms/step - loss: 0.1865 - precision: 0.6804 - accuracy: 0.9165 - val_loss: 0.2142 - val_precision: 0.6312 - val_accuracy: 0.9050\n",
            "Epoch 16/20\n",
            "446/446 [==============================] - 2s 4ms/step - loss: 0.1862 - precision: 0.6858 - accuracy: 0.9171 - val_loss: 0.2135 - val_precision: 0.6430 - val_accuracy: 0.9060\n",
            "Epoch 17/20\n",
            "446/446 [==============================] - 2s 4ms/step - loss: 0.1858 - precision: 0.6819 - accuracy: 0.9168 - val_loss: 0.2136 - val_precision: 0.6416 - val_accuracy: 0.9053\n",
            "Epoch 18/20\n",
            "446/446 [==============================] - 2s 4ms/step - loss: 0.1857 - precision: 0.6788 - accuracy: 0.9170 - val_loss: 0.2151 - val_precision: 0.6472 - val_accuracy: 0.9043\n",
            "Epoch 19/20\n",
            "446/446 [==============================] - 2s 4ms/step - loss: 0.1855 - precision: 0.6838 - accuracy: 0.9177 - val_loss: 0.2135 - val_precision: 0.6521 - val_accuracy: 0.9053\n",
            "Epoch 20/20\n",
            "446/446 [==============================] - 2s 4ms/step - loss: 0.1848 - precision: 0.6840 - accuracy: 0.9178 - val_loss: 0.2141 - val_precision: 0.6498 - val_accuracy: 0.9051\n"
          ],
          "name": "stdout"
        },
        {
          "output_type": "execute_result",
          "data": {
            "text/plain": [
              "<tensorflow.python.keras.callbacks.History at 0x7f53a76832b0>"
            ]
          },
          "metadata": {
            "tags": []
          },
          "execution_count": 16
        }
      ]
    },
    {
      "cell_type": "code",
      "metadata": {
        "id": "V2NY4bj4PYit",
        "colab_type": "code",
        "colab": {
          "base_uri": "https://localhost:8080/",
          "height": 170
        },
        "outputId": "93a3283c-4fe8-4e3d-ed1d-213d14f52e03"
      },
      "source": [
        " # predições com o modelo carregado \n",
        " y_pred = reconstructed_model.predict_classes(X_test)\n",
        " print(classification_report(y_test, y_pred))"
      ],
      "execution_count": null,
      "outputs": [
        {
          "output_type": "stream",
          "text": [
            "              precision    recall  f1-score   support\n",
            "\n",
            "           0       0.93      0.96      0.95     10716\n",
            "           1       0.65      0.48      0.55      1491\n",
            "\n",
            "    accuracy                           0.91     12207\n",
            "   macro avg       0.79      0.72      0.75     12207\n",
            "weighted avg       0.90      0.91      0.90     12207\n",
            "\n"
          ],
          "name": "stdout"
        }
      ]
    }
  ]
}